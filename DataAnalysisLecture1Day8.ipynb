{
 "cells": [
  {
   "cell_type": "code",
   "execution_count": 1,
   "id": "916f5817-87a0-448f-99de-2f13814cdb9b",
   "metadata": {},
   "outputs": [
    {
     "name": "stdout",
     "output_type": "stream",
     "text": [
      "1.26.4\n",
      "2.1.4\n"
     ]
    }
   ],
   "source": [
    "# Step 1. Import necessary libraries\n",
    "\n",
    "import numpy as np\n",
    "import pandas as pd\n",
    "import matplotlib.pyplot as plt\n",
    "import seaborn as sns\n",
    "\n",
    "print(np.__version__)\n",
    "print(pd.__version__)"
   ]
  },
  {
   "cell_type": "code",
   "execution_count": 3,
   "id": "6de89093-8e2b-4898-ac3e-d9b36ef56435",
   "metadata": {},
   "outputs": [
    {
     "name": "stdout",
     "output_type": "stream",
     "text": [
      "   number_siblings                   name     sex  age living_allowance  \\\n",
      "0                1     Nakasujja Gertrude  female   33              NaN   \n",
      "1                3  Arinda Asiimwe Atweta  female   23           50,000   \n",
      "2                4    Ndjekornom Victoire    male   23            25000   \n",
      "3                0         KATURAMU EDGAR    male   27           500000   \n",
      "4                4      Abinsinguza Lasse    male   24           100000   \n",
      "\n",
      "                  Are_you_a  How_many_time_do_eat_food  Unnamed: 7  \\\n",
      "0            Data Scientist                          2         NaN   \n",
      "1  Machine Learning Enginer                          1         NaN   \n",
      "2            Data Scientist                          1         NaN   \n",
      "3  Machine Learning Enginer                          2         NaN   \n",
      "4            Data Scientist                          2         NaN   \n",
      "\n",
      "   do_you_have_aboyfriend/girlfriend  \n",
      "0                                  1  \n",
      "1                                  1  \n",
      "2                                  0  \n",
      "3                                  0  \n",
      "4                                  1  \n"
     ]
    }
   ],
   "source": [
    "# Step2: Load data set\n",
    "\n",
    "df = pd.read_csv(r\"C:\\Users\\User\\Desktop\\ClassWork\\niceguys.csv\")\n",
    "\n",
    "# display first row of the dataframe\n",
    "print(df.head(5))"
   ]
  },
  {
   "cell_type": "code",
   "execution_count": 4,
   "id": "84fad251-6a69-4620-80e7-f332986439fc",
   "metadata": {},
   "outputs": [
    {
     "name": "stdout",
     "output_type": "stream",
     "text": [
      "    number_siblings                       name     sex  age living_allowance                 Are_you_a  How_many_time_do_eat_food  Unnamed: 7  do_you_have_aboyfriend/girlfriend\n",
      "0                 1         Nakasujja Gertrude  female   33              NaN            Data Scientist                          2         NaN                                  1\n",
      "1                 3      Arinda Asiimwe Atweta  female   23           50,000  Machine Learning Enginer                          1         NaN                                  1\n",
      "2                 4        Ndjekornom Victoire    male   23            25000            Data Scientist                          1         NaN                                  0\n",
      "3                 0             KATURAMU EDGAR    male   27           500000  Machine Learning Enginer                          2         NaN                                  0\n",
      "4                 4          Abinsinguza Lasse    male   24           100000            Data Scientist                          2         NaN                                  1\n",
      "5                 4        Beingana Jim Junior    male   20            10000            Data Scientist                          3         NaN                                  0\n",
      "6                 6   Cyiza Ndoli Jean de Dieu    male   23            60000              Data Analyst                          2         NaN                                  0\n",
      "7                 8        MUSIIMENTA CISSYLYN  female   20               70  Machine Learning Enginer                          3         NaN                                  0\n",
      "8                 2           Nakanwagu Vanesa  female   23           250000            Data Scientist                          3         NaN                                  1\n",
      "9                 9                Otim Ronald    male   25              NaN            Data Scientist                          2         NaN                                  0\n",
      "10                1                  Levi Aine    male   24        1,000,000            Data Scientist                          3         NaN                                  0\n",
      "11                1              NASAAZI TAKIA  female   23             2000              Data Analyst                          1         NaN                                  0\n",
      "12                5                      Alvin    male   23          2500000  Machine Learning Enginer                          3         NaN                                  1\n",
      "13                3            MULINDWA YUSUF     male   22              NaN            Data Scientist                          3         NaN                                  0\n",
      "14                2                     Hillal    male   32           150000  Machine Learning Enginer                          2         NaN                                  0\n",
      "15                9           mpairwe   lauben    male   26           760000  Machine Learning Enginer                          3         NaN                                  1\n",
      "16                4               Lutalo Allan    male   24           200000            Data Scientist                          3         NaN                                  1\n",
      "17                2                Efrata Aron  female   22           200000              Data Analyst                          2         NaN                                  1\n",
      "18                4                David Hope     male   22            35000  Machine Learning Enginer                          3         NaN                                  0\n",
      "19                1             ntegeka k pius    male   30           700000            Data Scientist                          3         NaN                                  0\n",
      "20                4            Yapyeko Rebecca  female   24           500000            Data Scientist                          3         NaN                                  0\n",
      "21                7      NKETAMUKAMA TARASISIO    male   22           600000  Machine Learning Enginer                          2         NaN                                  0\n",
      "22                3    Ampaire Stacey Nuwagaba  female   22           300000              Data Analyst                          2         NaN                                  0\n",
      "23                5            Ahaabwe Derrick    male   22           200000            Data Scientist                          2         NaN                                  0\n",
      "24                0           Ssentongo Henry     male   27              NaN  Machine Learning Enginer                          1         NaN                                  0\n",
      "25                6                     Shadia  female   23            20000            Data Scientist                          2         NaN                                  0\n",
      "26                4                     Harlan    male   24           250000            Data Scientist                          3         NaN                                  0\n",
      "27                1              AMADILE MAJID    male   23              NaN              Data Analyst                          2         NaN                                  0\n",
      "28                8                Nankya Elsa  female   23           120000            Data Scientist                          2         NaN                                  1\n",
      "29                2         Asiimire Patricia   female   22        1,000,000            Data Scientist                          3         NaN                                  0\n",
      "30                2           Rwakasiisi Edwin    male   24           150000            Data Scientist                          3         NaN                                  1\n",
      "31                5            Ampumuza Aijuka  female   23           500000            Data Scientist                          2         NaN                                  0\n",
      "32                5         TUKWASIIBWE MARTIN    male   23           200000              Data Analyst                          2         NaN                                  0\n",
      "33                8       Olowo Omondi Philly     male   23              NaN            Data Scientist                          2         NaN                                  1\n",
      "34                4  Kisembo Rodgers Bangirana    male   23           300000              Data Analyst                          3         NaN                                  0\n"
     ]
    }
   ],
   "source": [
    "print(df.to_string())"
   ]
  },
  {
   "cell_type": "code",
   "execution_count": 5,
   "id": "75e34dbe-8583-4c6d-b0b6-91370431c958",
   "metadata": {},
   "outputs": [
    {
     "name": "stdout",
     "output_type": "stream",
     "text": [
      "number_siblings                       0\n",
      "name                                  0\n",
      "sex                                   0\n",
      "age                                   0\n",
      "living_allowance                      6\n",
      "Are_you_a                             0\n",
      "How_many_time_do_eat_food             0\n",
      "Unnamed: 7                           35\n",
      "do_you_have_aboyfriend/girlfriend     0\n",
      "dtype: int64\n"
     ]
    }
   ],
   "source": [
    "# Step3: Data cleaning and pre-processing\n",
    "\n",
    "# Check for missing values\n",
    "print(df.isnull().sum())"
   ]
  },
  {
   "cell_type": "code",
   "execution_count": 7,
   "id": "698fb5b8-7110-4b7d-a1c2-675aaf272290",
   "metadata": {},
   "outputs": [
    {
     "ename": "NameError",
     "evalue": "name 'fillna' is not defined",
     "output_type": "error",
     "traceback": [
      "\u001b[1;31m---------------------------------------------------------------------------\u001b[0m",
      "\u001b[1;31mNameError\u001b[0m                                 Traceback (most recent call last)",
      "Cell \u001b[1;32mIn[7], line 2\u001b[0m\n\u001b[0;32m      1\u001b[0m \u001b[38;5;66;03m# Fill missing values\u001b[39;00m\n\u001b[1;32m----> 2\u001b[0m df[\u001b[38;5;124m'\u001b[39m\u001b[38;5;124mliving_allowance\u001b[39m\u001b[38;5;124m'\u001b[39m]\u001b[38;5;241m=\u001b[39mfillna(df[\u001b[38;5;124m'\u001b[39m\u001b[38;5;124mliving_allowance\u001b[39m\u001b[38;5;124m'\u001b[39m]\u001b[38;5;241m.\u001b[39mmean())\n\u001b[0;32m      5\u001b[0m \u001b[38;5;66;03m# Drop row where living allowance column has a value 50,000 and 1,000,000 \u001b[39;00m\n\u001b[0;32m      6\u001b[0m df[\u001b[38;5;241m~\u001b[39mdf[\u001b[38;5;124m'\u001b[39m\u001b[38;5;124mliving_allowance\u001b[39m\u001b[38;5;124m'\u001b[39m]]\u001b[38;5;241m.\u001b[39misin([\u001b[38;5;241m50000\u001b[39m, \u001b[38;5;241m1000000\u001b[39m])\n",
      "\u001b[1;31mNameError\u001b[0m: name 'fillna' is not defined"
     ]
    }
   ],
   "source": [
    "# Fill missing values\n",
    "df['living_allowance']=fillna(df['living_allowance'].mean())\n",
    "\n",
    "\n",
    "# Drop row where living allowance column has a value 50,000 and 1,000,000 \n",
    "df[~df['living_allowance']].isin([50000, 1000000])"
   ]
  },
  {
   "cell_type": "code",
   "execution_count": null,
   "id": "203c571a-9ff3-4a97-9660-1362df5c901f",
   "metadata": {},
   "outputs": [],
   "source": [
    "# Step 4: EDA Explatory Data Analysis\n",
    "# Distribtion students with Age an dwheter they have girlfreind or boyfriend\n",
    "# Gender who have bf and gf\n",
    "# Do you eat, age, gender and bf or gf\n",
    "# Living allowance and bf or gf\n",
    "# If those with bf or gf have siblings\n",
    "# Careers and bf or gf\n",
    "# no meals taken and living allowance\n",
    "# Correlation Heatmaps, correlation matrix and plot the heatmaps\n",
    "# Decision making/insights of the data, data analysis conclusions\n",
    "\"\"\"\n",
    "1. Age and gf or bf\n",
    "2. Gender and gf or bf\n",
    "3. Correlation analysis\n",
    "4. Do you eat, age, gender and bf or gf\n",
    "5. Living allowance and bf or gf\n",
    "6. If those with bf or gf have siblings\n",
    "7. Careers and bf or gf\n",
    "8. no meals taken and living allowance\n",
    "\"\"\""
   ]
  }
 ],
 "metadata": {
  "kernelspec": {
   "display_name": "Python 3 (ipykernel)",
   "language": "python",
   "name": "python3"
  },
  "language_info": {
   "codemirror_mode": {
    "name": "ipython",
    "version": 3
   },
   "file_extension": ".py",
   "mimetype": "text/x-python",
   "name": "python",
   "nbconvert_exporter": "python",
   "pygments_lexer": "ipython3",
   "version": "3.11.7"
  }
 },
 "nbformat": 4,
 "nbformat_minor": 5
}
