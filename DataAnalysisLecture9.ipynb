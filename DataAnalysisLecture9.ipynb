{
 "cells": [
  {
   "cell_type": "code",
   "execution_count": 1,
   "id": "a67b7829-e098-4eb9-942b-91d41b25b117",
   "metadata": {},
   "outputs": [
    {
     "name": "stdout",
     "output_type": "stream",
     "text": [
      "    number_siblings                       name     sex  age living_allowance                 Are_you_a  How_many_time_do_eat_food  Unnamed: 7  do_you_have_aboyfriend/girlfriend\n",
      "0                 1         Nakasujja Gertrude  female   33              NaN            Data Scientist                          2         NaN                                  1\n",
      "1                 3      Arinda Asiimwe Atweta  female   23           50,000  Machine Learning Enginer                          1         NaN                                  1\n",
      "2                 4        Ndjekornom Victoire    male   23            25000            Data Scientist                          1         NaN                                  0\n",
      "3                 0             KATURAMU EDGAR    male   27           500000  Machine Learning Enginer                          2         NaN                                  0\n",
      "4                 4          Abinsinguza Lasse    male   24           100000            Data Scientist                          2         NaN                                  1\n",
      "5                 4        Beingana Jim Junior    male   20            10000            Data Scientist                          3         NaN                                  0\n",
      "6                 6   Cyiza Ndoli Jean de Dieu    male   23            60000              Data Analyst                          2         NaN                                  0\n",
      "7                 8        MUSIIMENTA CISSYLYN  female   20               70  Machine Learning Enginer                          3         NaN                                  0\n",
      "8                 2           Nakanwagu Vanesa  female   23           250000            Data Scientist                          3         NaN                                  1\n",
      "9                 9                Otim Ronald    male   25              NaN            Data Scientist                          2         NaN                                  0\n",
      "10                1                  Levi Aine    male   24        1,000,000            Data Scientist                          3         NaN                                  0\n",
      "11                1              NASAAZI TAKIA  female   23             2000              Data Analyst                          1         NaN                                  0\n",
      "12                5                      Alvin    male   23          2500000  Machine Learning Enginer                          3         NaN                                  1\n",
      "13                3            MULINDWA YUSUF     male   22              NaN            Data Scientist                          3         NaN                                  0\n",
      "14                2                     Hillal    male   32           150000  Machine Learning Enginer                          2         NaN                                  0\n",
      "15                9           mpairwe   lauben    male   26           760000  Machine Learning Enginer                          3         NaN                                  1\n",
      "16                4               Lutalo Allan    male   24           200000            Data Scientist                          3         NaN                                  1\n",
      "17                2                Efrata Aron  female   22           200000              Data Analyst                          2         NaN                                  1\n",
      "18                4                David Hope     male   22            35000  Machine Learning Enginer                          3         NaN                                  0\n",
      "19                1             ntegeka k pius    male   30           700000            Data Scientist                          3         NaN                                  0\n",
      "20                4            Yapyeko Rebecca  female   24           500000            Data Scientist                          3         NaN                                  0\n",
      "21                7      NKETAMUKAMA TARASISIO    male   22           600000  Machine Learning Enginer                          2         NaN                                  0\n",
      "22                3    Ampaire Stacey Nuwagaba  female   22           300000              Data Analyst                          2         NaN                                  0\n",
      "23                5            Ahaabwe Derrick    male   22           200000            Data Scientist                          2         NaN                                  0\n",
      "24                0           Ssentongo Henry     male   27              NaN  Machine Learning Enginer                          1         NaN                                  0\n",
      "25                6                     Shadia  female   23            20000            Data Scientist                          2         NaN                                  0\n",
      "26                4                     Harlan    male   24           250000            Data Scientist                          3         NaN                                  0\n",
      "27                1              AMADILE MAJID    male   23              NaN              Data Analyst                          2         NaN                                  0\n",
      "28                8                Nankya Elsa  female   23           120000            Data Scientist                          2         NaN                                  1\n",
      "29                2         Asiimire Patricia   female   22        1,000,000            Data Scientist                          3         NaN                                  0\n",
      "30                2           Rwakasiisi Edwin    male   24           150000            Data Scientist                          3         NaN                                  1\n",
      "31                5            Ampumuza Aijuka  female   23           500000            Data Scientist                          2         NaN                                  0\n",
      "32                5         TUKWASIIBWE MARTIN    male   23           200000              Data Analyst                          2         NaN                                  0\n",
      "33                8       Olowo Omondi Philly     male   23              NaN            Data Scientist                          2         NaN                                  1\n",
      "34                4  Kisembo Rodgers Bangirana    male   23           300000              Data Analyst                          3         NaN                                  0\n"
     ]
    }
   ],
   "source": [
    "#load the bse dataset\n",
    "import pandas as pd\n",
    "import numpy as np\n",
    "\n",
    "data=pd.read_csv(r\"C:\\Users\\User\\Desktop\\ClassWork\\niceguys.csv\")\n",
    "print(data.to_string())"
   ]
  },
  {
   "cell_type": "code",
   "execution_count": 2,
   "id": "a2050c45-7ec2-45dc-b1ad-c73130d16c24",
   "metadata": {},
   "outputs": [
    {
     "name": "stdout",
     "output_type": "stream",
     "text": [
      "number_siblings                        int64\n",
      "name                                  object\n",
      "sex                                   object\n",
      "age                                    int64\n",
      "living_allowance                      object\n",
      "Are_you_a                             object\n",
      "How_many_time_do_eat_food              int64\n",
      "Unnamed: 7                           float64\n",
      "do_you_have_aboyfriend/girlfriend      int64\n",
      "dtype: object\n"
     ]
    }
   ],
   "source": [
    "#check for wrong data\n",
    "print(data.dtypes)"
   ]
  },
  {
   "cell_type": "code",
   "execution_count": null,
   "id": "54975a77-9d24-49a0-b976-d0ffb76f7bb7",
   "metadata": {},
   "outputs": [],
   "source": [
    "#Data preprocessing\n",
    "#for machine learning module\n",
    "#correlation\n",
    "\n",
    "#=data.label.astype('category')\n",
    "#targets=dict(enumerate(c.cat.categories))\n",
    "#data['target']=c.cat.codes\n",
    "#y=data.target\n",
    "#x=data[['N','P','K','temperature','humidity','rainfall','ph']]"
   ]
  },
  {
   "cell_type": "code",
   "execution_count": 3,
   "id": "3d322260-2836-46f4-af87-66ebcca92401",
   "metadata": {},
   "outputs": [
    {
     "name": "stdout",
     "output_type": "stream",
     "text": [
      "number_siblings                       0\n",
      "name                                  0\n",
      "sex                                   0\n",
      "age                                   0\n",
      "living_allowance                      6\n",
      "Are_you_a                             0\n",
      "How_many_time_do_eat_food             0\n",
      "Unnamed: 7                           35\n",
      "do_you_have_aboyfriend/girlfriend     0\n",
      "dtype: int64\n"
     ]
    }
   ],
   "source": [
    "#Data cleaning\n",
    "#check for missing values again \n",
    "#import pandas as pd\n",
    "print(data.isnull().sum())"
   ]
  },
  {
   "cell_type": "code",
   "execution_count": 4,
   "id": "8b9c2d21-67a5-408a-a3d2-aa5b7dd5377f",
   "metadata": {},
   "outputs": [
    {
     "name": "stdout",
     "output_type": "stream",
     "text": [
      "   number_siblings                      name     sex  age  living_allowance  \\\n",
      "0                1        Nakasujja Gertrude  female   33          200000.0   \n",
      "1                3     Arinda Asiimwe Atweta  female   23           50000.0   \n",
      "2                4       Ndjekornom Victoire    male   23           25000.0   \n",
      "3                0            KATURAMU EDGAR    male   27          500000.0   \n",
      "4                4         Abinsinguza Lasse    male   24          100000.0   \n",
      "5                4       Beingana Jim Junior    male   20           10000.0   \n",
      "6                6  Cyiza Ndoli Jean de Dieu    male   23           60000.0   \n",
      "7                8       MUSIIMENTA CISSYLYN  female   20              70.0   \n",
      "\n",
      "                  Are_you_a  How_many_time_do_eat_food  Unnamed: 7  \\\n",
      "0            Data Scientist                          2         NaN   \n",
      "1  Machine Learning Enginer                          1         NaN   \n",
      "2            Data Scientist                          1         NaN   \n",
      "3  Machine Learning Enginer                          2         NaN   \n",
      "4            Data Scientist                          2         NaN   \n",
      "5            Data Scientist                          3         NaN   \n",
      "6              Data Analyst                          2         NaN   \n",
      "7  Machine Learning Enginer                          3         NaN   \n",
      "\n",
      "   do_you_have_aboyfriend/girlfriend  \n",
      "0                                  1  \n",
      "1                                  1  \n",
      "2                                  0  \n",
      "3                                  0  \n",
      "4                                  1  \n",
      "5                                  0  \n",
      "6                                  0  \n",
      "7                                  0  \n"
     ]
    }
   ],
   "source": [
    "\n",
    "# Remove commas and convert to numeric\n",
    "data['living_allowance'] = data['living_allowance'].str.replace(',', '')\n",
    "data['living_allowance'] = pd.to_numeric(data['living_allowance'], errors='coerce')\n",
    "\n",
    "# Calculate the median of the living_allowance column\n",
    "median_value = data['living_allowance'].median()\n",
    "\n",
    "# Fill NaN values with the median\n",
    "data['living_allowance'].fillna(median_value, inplace=True)\n",
    "\n",
    "# Print the first 8 rows of the dataframe\n",
    "print(data.head(8))"
   ]
  },
  {
   "cell_type": "code",
   "execution_count": 9,
   "id": "34b621cd-39aa-4e08-a986-e8fdd4222c6e",
   "metadata": {},
   "outputs": [
    {
     "data": {
      "image/png": "[encoded data removed]",
      "text/plain": [
       "<Figure size 640x480 with 1 Axes>"
      ]
     },
     "metadata": {},
     "output_type": "display_data"
    }
   ],
   "source": [
    "siblings_counts = data['age'].value_counts()\n",
    "import matplotlib.pyplot as plt\n",
    "plt.pie(siblings_counts, labels=siblings_counts.index, autopct='%1.1f%%', startangle=180)\n",
    "plt.title('Age Distribution in Class')\n",
    "plt.axis('equal')\n",
    "plt.show()"
   ]
  },
  {
   "cell_type": "code",
   "execution_count": 10,
   "id": "40953685-042d-46c8-9023-d81e5bd4460c",
   "metadata": {},
   "outputs": [
    {
     "ename": "AttributeError",
     "evalue": "Rectangle.set() got an unexpected keyword argument 'labels'",
     "output_type": "error",
     "traceback": [
      "\u001b[1;31m---------------------------------------------------------------------------\u001b[0m",
      "\u001b[1;31mAttributeError\u001b[0m                            Traceback (most recent call last)",
      "Cell \u001b[1;32mIn[10], line 1\u001b[0m\n\u001b[1;32m----> 1\u001b[0m plt\u001b[38;5;241m.\u001b[39mhist(siblings_counts, labels\u001b[38;5;241m=\u001b[39msiblings_counts\u001b[38;5;241m.\u001b[39mindex, autopct\u001b[38;5;241m=\u001b[39m\u001b[38;5;124m'\u001b[39m\u001b[38;5;132;01m%1.1f\u001b[39;00m\u001b[38;5;132;01m%%\u001b[39;00m\u001b[38;5;124m'\u001b[39m, startangle\u001b[38;5;241m=\u001b[39m\u001b[38;5;241m180\u001b[39m)\n\u001b[0;32m      2\u001b[0m plt\u001b[38;5;241m.\u001b[39mtitle(\u001b[38;5;124m'\u001b[39m\u001b[38;5;124mAge Distribution in Class\u001b[39m\u001b[38;5;124m'\u001b[39m)\n\u001b[0;32m      3\u001b[0m plt\u001b[38;5;241m.\u001b[39maxis(\u001b[38;5;124m'\u001b[39m\u001b[38;5;124mequal\u001b[39m\u001b[38;5;124m'\u001b[39m)\n",
      "File \u001b[1;32m~\\anaconda3\\Lib\\site-packages\\matplotlib\\pyplot.py:3224\u001b[0m, in \u001b[0;36mhist\u001b[1;34m(x, bins, range, density, weights, cumulative, bottom, histtype, align, orientation, rwidth, log, color, label, stacked, data, **kwargs)\u001b[0m\n\u001b[0;32m   3199\u001b[0m \u001b[38;5;129m@_copy_docstring_and_deprecators\u001b[39m(Axes\u001b[38;5;241m.\u001b[39mhist)\n\u001b[0;32m   3200\u001b[0m \u001b[38;5;28;01mdef\u001b[39;00m \u001b[38;5;21mhist\u001b[39m(\n\u001b[0;32m   3201\u001b[0m     x: ArrayLike \u001b[38;5;241m|\u001b[39m Sequence[ArrayLike],\n\u001b[1;32m   (...)\u001b[0m\n\u001b[0;32m   3222\u001b[0m     BarContainer \u001b[38;5;241m|\u001b[39m Polygon \u001b[38;5;241m|\u001b[39m \u001b[38;5;28mlist\u001b[39m[BarContainer \u001b[38;5;241m|\u001b[39m Polygon],\n\u001b[0;32m   3223\u001b[0m ]:\n\u001b[1;32m-> 3224\u001b[0m     \u001b[38;5;28;01mreturn\u001b[39;00m gca()\u001b[38;5;241m.\u001b[39mhist(\n\u001b[0;32m   3225\u001b[0m         x,\n\u001b[0;32m   3226\u001b[0m         bins\u001b[38;5;241m=\u001b[39mbins,\n\u001b[0;32m   3227\u001b[0m         \u001b[38;5;28mrange\u001b[39m\u001b[38;5;241m=\u001b[39m\u001b[38;5;28mrange\u001b[39m,\n\u001b[0;32m   3228\u001b[0m         density\u001b[38;5;241m=\u001b[39mdensity,\n\u001b[0;32m   3229\u001b[0m         weights\u001b[38;5;241m=\u001b[39mweights,\n\u001b[0;32m   3230\u001b[0m         cumulative\u001b[38;5;241m=\u001b[39mcumulative,\n\u001b[0;32m   3231\u001b[0m         bottom\u001b[38;5;241m=\u001b[39mbottom,\n\u001b[0;32m   3232\u001b[0m         histtype\u001b[38;5;241m=\u001b[39mhisttype,\n\u001b[0;32m   3233\u001b[0m         align\u001b[38;5;241m=\u001b[39malign,\n\u001b[0;32m   3234\u001b[0m         orientation\u001b[38;5;241m=\u001b[39morientation,\n\u001b[0;32m   3235\u001b[0m         rwidth\u001b[38;5;241m=\u001b[39mrwidth,\n\u001b[0;32m   3236\u001b[0m         log\u001b[38;5;241m=\u001b[39mlog,\n\u001b[0;32m   3237\u001b[0m         color\u001b[38;5;241m=\u001b[39mcolor,\n\u001b[0;32m   3238\u001b[0m         label\u001b[38;5;241m=\u001b[39mlabel,\n\u001b[0;32m   3239\u001b[0m         stacked\u001b[38;5;241m=\u001b[39mstacked,\n\u001b[0;32m   3240\u001b[0m         \u001b[38;5;241m*\u001b[39m\u001b[38;5;241m*\u001b[39m({\u001b[38;5;124m\"\u001b[39m\u001b[38;5;124mdata\u001b[39m\u001b[38;5;124m\"\u001b[39m: data} \u001b[38;5;28;01mif\u001b[39;00m data \u001b[38;5;129;01mis\u001b[39;00m \u001b[38;5;129;01mnot\u001b[39;00m \u001b[38;5;28;01mNone\u001b[39;00m \u001b[38;5;28;01melse\u001b[39;00m {}),\n\u001b[0;32m   3241\u001b[0m         \u001b[38;5;241m*\u001b[39m\u001b[38;5;241m*\u001b[39mkwargs,\n\u001b[0;32m   3242\u001b[0m     )\n",
      "File \u001b[1;32m~\\anaconda3\\Lib\\site-packages\\matplotlib\\__init__.py:1465\u001b[0m, in \u001b[0;36m_preprocess_data.<locals>.inner\u001b[1;34m(ax, data, *args, **kwargs)\u001b[0m\n\u001b[0;32m   1462\u001b[0m \u001b[38;5;129m@functools\u001b[39m\u001b[38;5;241m.\u001b[39mwraps(func)\n\u001b[0;32m   1463\u001b[0m \u001b[38;5;28;01mdef\u001b[39;00m \u001b[38;5;21minner\u001b[39m(ax, \u001b[38;5;241m*\u001b[39margs, data\u001b[38;5;241m=\u001b[39m\u001b[38;5;28;01mNone\u001b[39;00m, \u001b[38;5;241m*\u001b[39m\u001b[38;5;241m*\u001b[39mkwargs):\n\u001b[0;32m   1464\u001b[0m     \u001b[38;5;28;01mif\u001b[39;00m data \u001b[38;5;129;01mis\u001b[39;00m \u001b[38;5;28;01mNone\u001b[39;00m:\n\u001b[1;32m-> 1465\u001b[0m         \u001b[38;5;28;01mreturn\u001b[39;00m func(ax, \u001b[38;5;241m*\u001b[39m\u001b[38;5;28mmap\u001b[39m(sanitize_sequence, args), \u001b[38;5;241m*\u001b[39m\u001b[38;5;241m*\u001b[39mkwargs)\n\u001b[0;32m   1467\u001b[0m     bound \u001b[38;5;241m=\u001b[39m new_sig\u001b[38;5;241m.\u001b[39mbind(ax, \u001b[38;5;241m*\u001b[39margs, \u001b[38;5;241m*\u001b[39m\u001b[38;5;241m*\u001b[39mkwargs)\n\u001b[0;32m   1468\u001b[0m     auto_label \u001b[38;5;241m=\u001b[39m (bound\u001b[38;5;241m.\u001b[39marguments\u001b[38;5;241m.\u001b[39mget(label_namer)\n\u001b[0;32m   1469\u001b[0m                   \u001b[38;5;129;01mor\u001b[39;00m bound\u001b[38;5;241m.\u001b[39mkwargs\u001b[38;5;241m.\u001b[39mget(label_namer))\n",
      "File \u001b[1;32m~\\anaconda3\\Lib\\site-packages\\matplotlib\\axes\\_axes.py:7007\u001b[0m, in \u001b[0;36mAxes.hist\u001b[1;34m(self, x, bins, range, density, weights, cumulative, bottom, histtype, align, orientation, rwidth, log, color, label, stacked, **kwargs)\u001b[0m\n\u001b[0;32m   7005\u001b[0m \u001b[38;5;28;01mif\u001b[39;00m patch:\n\u001b[0;32m   7006\u001b[0m     p \u001b[38;5;241m=\u001b[39m patch[\u001b[38;5;241m0\u001b[39m]\n\u001b[1;32m-> 7007\u001b[0m     p\u001b[38;5;241m.\u001b[39m_internal_update(kwargs)\n\u001b[0;32m   7008\u001b[0m     \u001b[38;5;28;01mif\u001b[39;00m lbl \u001b[38;5;129;01mis\u001b[39;00m \u001b[38;5;129;01mnot\u001b[39;00m \u001b[38;5;28;01mNone\u001b[39;00m:\n\u001b[0;32m   7009\u001b[0m         p\u001b[38;5;241m.\u001b[39mset_label(lbl)\n",
      "File \u001b[1;32m~\\anaconda3\\Lib\\site-packages\\matplotlib\\artist.py:1219\u001b[0m, in \u001b[0;36mArtist._internal_update\u001b[1;34m(self, kwargs)\u001b[0m\n\u001b[0;32m   1212\u001b[0m \u001b[38;5;28;01mdef\u001b[39;00m \u001b[38;5;21m_internal_update\u001b[39m(\u001b[38;5;28mself\u001b[39m, kwargs):\n\u001b[0;32m   1213\u001b[0m \u001b[38;5;250m    \u001b[39m\u001b[38;5;124;03m\"\"\"\u001b[39;00m\n\u001b[0;32m   1214\u001b[0m \u001b[38;5;124;03m    Update artist properties without prenormalizing them, but generating\u001b[39;00m\n\u001b[0;32m   1215\u001b[0m \u001b[38;5;124;03m    errors as if calling `set`.\u001b[39;00m\n\u001b[0;32m   1216\u001b[0m \n\u001b[0;32m   1217\u001b[0m \u001b[38;5;124;03m    The lack of prenormalization is to maintain backcompatibility.\u001b[39;00m\n\u001b[0;32m   1218\u001b[0m \u001b[38;5;124;03m    \"\"\"\u001b[39;00m\n\u001b[1;32m-> 1219\u001b[0m     \u001b[38;5;28;01mreturn\u001b[39;00m \u001b[38;5;28mself\u001b[39m\u001b[38;5;241m.\u001b[39m_update_props(\n\u001b[0;32m   1220\u001b[0m         kwargs, \u001b[38;5;124m\"\u001b[39m\u001b[38;5;132;01m{cls.__name__}\u001b[39;00m\u001b[38;5;124m.set() got an unexpected keyword argument \u001b[39m\u001b[38;5;124m\"\u001b[39m\n\u001b[0;32m   1221\u001b[0m         \u001b[38;5;124m\"\u001b[39m\u001b[38;5;132;01m{prop_name!r}\u001b[39;00m\u001b[38;5;124m\"\u001b[39m)\n",
      "File \u001b[1;32m~\\anaconda3\\Lib\\site-packages\\matplotlib\\artist.py:1193\u001b[0m, in \u001b[0;36mArtist._update_props\u001b[1;34m(self, props, errfmt)\u001b[0m\n\u001b[0;32m   1191\u001b[0m             func \u001b[38;5;241m=\u001b[39m \u001b[38;5;28mgetattr\u001b[39m(\u001b[38;5;28mself\u001b[39m, \u001b[38;5;124mf\u001b[39m\u001b[38;5;124m\"\u001b[39m\u001b[38;5;124mset_\u001b[39m\u001b[38;5;132;01m{\u001b[39;00mk\u001b[38;5;132;01m}\u001b[39;00m\u001b[38;5;124m\"\u001b[39m, \u001b[38;5;28;01mNone\u001b[39;00m)\n\u001b[0;32m   1192\u001b[0m             \u001b[38;5;28;01mif\u001b[39;00m \u001b[38;5;129;01mnot\u001b[39;00m \u001b[38;5;28mcallable\u001b[39m(func):\n\u001b[1;32m-> 1193\u001b[0m                 \u001b[38;5;28;01mraise\u001b[39;00m \u001b[38;5;167;01mAttributeError\u001b[39;00m(\n\u001b[0;32m   1194\u001b[0m                     errfmt\u001b[38;5;241m.\u001b[39mformat(\u001b[38;5;28mcls\u001b[39m\u001b[38;5;241m=\u001b[39m\u001b[38;5;28mtype\u001b[39m(\u001b[38;5;28mself\u001b[39m), prop_name\u001b[38;5;241m=\u001b[39mk))\n\u001b[0;32m   1195\u001b[0m             ret\u001b[38;5;241m.\u001b[39mappend(func(v))\n\u001b[0;32m   1196\u001b[0m \u001b[38;5;28;01mif\u001b[39;00m ret:\n",
      "\u001b[1;31mAttributeError\u001b[0m: Rectangle.set() got an unexpected keyword argument 'labels'"
     ]
    },
    {
     "data": {
      "image/png": "[encoded data removed]",
      "text/plain": [
       "<Figure size 640x480 with 1 Axes>"
      ]
     },
     "metadata": {},
     "output_type": "display_data"
    }
   ],
   "source": [
    "plt.hist(siblings_counts, labels=siblings_counts.index, autopct='%1.1f%%', startangle=180)\n",
    "plt.title('Age Distribution in Class')\n",
    "plt.axis('equal')\n",
    "plt.show()"
   ]
  },
  {
   "cell_type": "code",
   "execution_count": 12,
   "id": "1142a7e8-0b9e-494c-9cd1-c2658d904f3f",
   "metadata": {},
   "outputs": [
    {
     "name": "stdout",
     "output_type": "stream",
     "text": [
      "        N   P   K  temperature   humidity        ph    rainfall   label\n",
      "0      90  42  43    20.879744  82.002744  6.502985  202.935536    rice\n",
      "1      85  58  41    21.770462  80.319644  7.038096  226.655537    rice\n",
      "2      60  55  44    23.004459  82.320763  7.840207  263.964248    rice\n",
      "3      74  35  40    26.491096  80.158363  6.980401  242.864034    rice\n",
      "4      78  42  42    20.130175  81.604873  7.628473  262.717340    rice\n",
      "...   ...  ..  ..          ...        ...       ...         ...     ...\n",
      "2195  107  34  32    26.774637  66.413269  6.780064  177.774507  coffee\n",
      "2196   99  15  27    27.417112  56.636362  6.086922  127.924610  coffee\n",
      "2197  118  33  30    24.131797  67.225123  6.362608  173.322839  coffee\n",
      "2198  117  32  34    26.272418  52.127394  6.758793  127.175293  coffee\n",
      "2199  104  18  30    23.603016  60.396475  6.779833  140.937041  coffee\n",
      "\n",
      "[2200 rows x 8 columns]\n"
     ]
    }
   ],
   "source": [
    "df=pd.read_csv(r'C:\\Users\\User\\Desktop\\ClassWork\\crop.csv')\n",
    "print(df)"
   ]
  },
  {
   "cell_type": "code",
   "execution_count": 15,
   "id": "637dbdec-c720-458e-b33a-c4f493a4565b",
   "metadata": {},
   "outputs": [
    {
     "name": "stdout",
     "output_type": "stream",
     "text": [
      "N              0\n",
      "P              0\n",
      "K              0\n",
      "temperature    0\n",
      "humidity       0\n",
      "ph             0\n",
      "rainfall       0\n",
      "label          0\n",
      "dtype: int64\n",
      "N              0\n",
      "P              0\n",
      "K              0\n",
      "temperature    0\n",
      "humidity       0\n",
      "ph             0\n",
      "rainfall       0\n",
      "label          0\n",
      "dtype: int64\n"
     ]
    }
   ],
   "source": [
    "#Data cleaning\n",
    "#check for missing values again \n",
    "#import pandas as pd\n",
    "print(df.isnull().sum())\n",
    "check= df.isna().sum()\n",
    "print(check)"
   ]
  },
  {
   "cell_type": "code",
   "execution_count": null,
   "id": "a6fd287e-0eaa-4507-89d5-54e8bf9938de",
   "metadata": {},
   "outputs": [],
   "source": [
    "#crop analysis\n",
    "print(data.isnull().sum())"
   ]
  },
  {
   "cell_type": "code",
   "execution_count": null,
   "id": "8abeea56-2f8b-43ab-9ca2-203e6da2c264",
   "metadata": {},
   "outputs": [],
   "source": [
    "#Summary statistics\n",
    "#Explanatory data analysis\n",
    "print(data.describe())"
   ]
  },
  {
   "cell_type": "code",
   "execution_count": null,
   "id": "09cabb5d-962b-4b04-bfa8-e1536ed8b94a",
   "metadata": {},
   "outputs": [],
   "source": [
    "#check for nul missing values\n",
    "import seaborn as sns\n",
    "sns.heatmap(data.isnull(),yticklabels=False,cbar=False,cmap='viridis')"
   ]
  },
  {
   "cell_type": "code",
   "execution_count": null,
   "id": "93375028-b6e7-4507-8b05-14ab1af0f5c0",
   "metadata": {},
   "outputs": [],
   "source": [
    "print(data['temperature'].value_counts())"
   ]
  },
  {
   "cell_type": "code",
   "execution_count": null,
   "id": "88dd245c-6a85-482f-8b80-8279aa367cb7",
   "metadata": {},
   "outputs": [],
   "source": [
    "import matplotlib.pyplot as plt\n",
    "\n",
    "sns.histplot(data['temperature'],color='pink',bins=30,kde=True)\n",
    "plt.title('temperature distribution')\n",
    "plt.show()"
   ]
  },
  {
   "cell_type": "code",
   "execution_count": null,
   "id": "dd011472-5989-4e92-a222-7d0a7cb1bd93",
   "metadata": {},
   "outputs": [],
   "source": [
    "#method 2\n",
    "#N is the nitrogen\n",
    "#k is the Potasium\n",
    "#p \n",
    "sns.heatmap(df.isnull(),cmap='coolwarm')\n",
    "plt.show()"
   ]
  },
  {
   "cell_type": "code",
   "execution_count": null,
   "id": "fd2860db-79cb-41b6-982f-b9ac1e18b6a4",
   "metadata": {},
   "outputs": [],
   "source": [
    "# Correlation, relationship between columns\n",
    "c =df.label.astype('category')\n",
    "targets = dict(enumerate(c.cat.categories))\n",
    "df['target'] = c.cat.codes\n",
    "\n",
    "y = df.target\n",
    "X = data[['N', 'P', 'temperature','humidity','ph','rainfall']]\n",
    "\n",
    "sns.heatmap(X.corr())\n",
    "plt.title(\"Correlation\")\n",
    "plt.show()"
   ]
  },
  {
   "cell_type": "code",
   "execution_count": null,
   "id": "73cbb0f7-b0a3-4314-8ef7-0bcf04fa4011",
   "metadata": {},
   "outputs": [],
   "source": [
    "#Phosphorous level\n",
    "sns.boxplot(y='label',x='ph',df=df, palette='plasma_r')\n",
    "plt.title('phosphorous level')\n",
    "plt.show()"
   ]
  },
  {
   "cell_type": "code",
   "execution_count": null,
   "id": "86ea777e-4f95-452e-b4d3-135fb029ff2b",
   "metadata": {},
   "outputs": [],
   "source": [
    "#Data Visualization:Visualization helps to gain more insights from the data\n",
    "import seaborn as sns\n",
    "import matplotlib.pyplot as plt\n",
    "#have bf gf by gender\n",
    "sns.barplot(x='gender',y='have_bf_gf',data=data)"
   ]
  },
  {
   "cell_type": "code",
   "execution_count": null,
   "id": "50732c4d-cb95-4f1d-b338-de20ef8bac45",
   "metadata": {},
   "outputs": [],
   "source": [
    "data['living_allowance'] = data['living_allowance'].fillna(data['living_allowance'].mode())\n",
    "\n",
    "print(data.head(5)"
   ]
  },
  {
   "cell_type": "code",
   "execution_count": null,
   "id": "add72ed9-fd2e-44ff-8144-f22b7104da91",
   "metadata": {},
   "outputs": [],
   "source": [
    "#Distribution of professional\n",
    "print(data['profession'])"
   ]
  }
 ],
 "metadata": {
  "kernelspec": {
   "display_name": "Python 3 (ipykernel)",
   "language": "python",
   "name": "python3"
  },
  "language_info": {
   "codemirror_mode": {
    "name": "ipython",
    "version": 3
   },
   "file_extension": ".py",
   "mimetype": "text/x-python",
   "name": "python",
   "nbconvert_exporter": "python",
   "pygments_lexer": "ipython3",
   "version": "3.11.7"
  }
 },
 "nbformat": 4,
 "nbformat_minor": 5
}
